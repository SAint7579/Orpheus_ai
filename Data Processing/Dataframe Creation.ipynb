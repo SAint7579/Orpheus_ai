{
 "cells": [
  {
   "cell_type": "code",
   "execution_count": 46,
   "id": "b8c05e4f",
   "metadata": {},
   "outputs": [],
   "source": [
    "import pandas as pd\n",
    "from glob import glob"
   ]
  },
  {
   "cell_type": "code",
   "execution_count": 44,
   "id": "c12ba10f",
   "metadata": {},
   "outputs": [
    {
     "name": "stderr",
     "output_type": "stream",
     "text": [
      "C:\\Users\\GP65\\AppData\\Local\\Temp\\ipykernel_25584\\1483770685.py:2: DtypeWarning: Columns (0,1,5,6,8,12,18,20,21,22,24,33,34,38,39,44,47,49) have mixed types. Specify dtype option on import or set low_memory=False.\n",
      "  main_data = pd.read_csv('D:/Projects/fma/data/fma_metadata/tracks.csv',header=None)\n"
     ]
    }
   ],
   "source": [
    "## Getting the key information\n",
    "main_data = pd.read_csv('D:/Projects/fma/data/fma_metadata/tracks.csv',header=None)\n",
    "columns = main_data.iloc[:3,:].fillna(value='').apply(lambda a : a +' ').sum().apply(lambda a : a.strip()).values\n",
    "main_data = main_data.iloc[3:]\n",
    "main_data.columns = columns\n",
    "main_data.index = main_data['track_id'].astype(int)\n",
    "main_data = main_data[['track title', 'track genres', 'artist name', 'artist id','track bit_rate','track duration']]\n",
    "\n",
    "## Adding Path of songs\n",
    "songs = glob('D:/Projects/fma/data/fma_medium/*/*.mp3')\n",
    "songs = {int(i.split('\\\\')[-1].split('.')[0]):i for i in songs}\n",
    "songs = pd.DataFrame(songs,index=[0]).T\n",
    "songs.columns = ['file_path']"
   ]
  },
  {
   "cell_type": "code",
   "execution_count": 45,
   "id": "3d69e530",
   "metadata": {},
   "outputs": [],
   "source": [
    "full_dataframe = pd.merge(main_data,songs,left_index=True,right_index=True,how='inner',sort=True)\n",
    "full_dataframe.index.name = 'track_id'\n",
    "full_dataframe.to_csv('D:/Projects/Orpheus_ai/DataSet/main_dataframe.csv')"
   ]
  },
  {
   "cell_type": "markdown",
   "id": "16c55797",
   "metadata": {},
   "source": [
    "## Spleeter Test"
   ]
  },
  {
   "cell_type": "code",
   "execution_count": 31,
   "id": "f8781d8c",
   "metadata": {},
   "outputs": [],
   "source": [
    "import spleeter\n",
    "from spleeter.separator import Separator\n",
    "from spleeter.audio.adapter import AudioAdapter"
   ]
  },
  {
   "cell_type": "code",
   "execution_count": null,
   "id": "b23d5676",
   "metadata": {},
   "outputs": [],
   "source": [
    "separator = Separator('spleeter:2stems')"
   ]
  },
  {
   "cell_type": "code",
   "execution_count": 40,
   "id": "752250f5",
   "metadata": {},
   "outputs": [],
   "source": [
    "audio_loader = AudioAdapter.default()\n",
    "sample_rate = 256000\n",
    "waveform, _ = audio_loader.load('D:/Projects/fma/data/fma_medium\\\\000\\\\000002.mp3', sample_rate=sample_rate)\n",
    "prediction = separator.separate(waveform)"
   ]
  },
  {
   "cell_type": "code",
   "execution_count": 66,
   "id": "6e361be0",
   "metadata": {},
   "outputs": [],
   "source": [
    "separator.separate_to_file('D:/Projects/fma/data/fma_medium\\\\000\\\\000002.mp3', 'D:/Projects/Orpheus_ai/DataSet/Samples/',\n",
    "                          filename_format='{instrument}/{filename}.{codec}',\n",
    "                          bitrate='128k',\n",
    "                          duration=30,\n",
    "                          codec=spleeter.audio.Codec.MP3)"
   ]
  },
  {
   "cell_type": "markdown",
   "id": "aea82713",
   "metadata": {},
   "source": [
    "## Vocal Spearation Pipeline"
   ]
  },
  {
   "cell_type": "code",
   "execution_count": 69,
   "id": "b8968ce2",
   "metadata": {},
   "outputs": [],
   "source": [
    "import spleeter\n",
    "from spleeter.separator import Separator\n",
    "from spleeter.audio.adapter import AudioAdapter\n",
    "from tqdm.notebook import tqdm\n",
    "## Separator and Loader\n",
    "separator = Separator('spleeter:2stems')\n",
    "audio_loader = AudioAdapter.default()"
   ]
  },
  {
   "cell_type": "code",
   "execution_count": 71,
   "id": "823a38f9",
   "metadata": {},
   "outputs": [
    {
     "data": {
      "application/vnd.jupyter.widget-view+json": {
       "model_id": "6e097e4ceacc40d4b67f48c7d6724b0b",
       "version_major": 2,
       "version_minor": 0
      },
      "text/plain": [
       "  0%|          | 0/25000 [00:00<?, ?it/s]"
      ]
     },
     "metadata": {},
     "output_type": "display_data"
    },
    {
     "ename": "SpleeterError",
     "evalue": "An error occurs with ffprobe (see ffprobe output below)\n\nffprobe version 4.4.1-full_build-www.gyan.dev Copyright (c) 2007-2021 the FFmpeg developers\r\n  built with gcc 11.2.0 (Rev1, Built by MSYS2 project)\r\n  configuration: --enable-gpl --enable-version3 --enable-static --disable-w32threads --disable-autodetect --enable-fontconfig --enable-iconv --enable-gnutls --enable-libxml2 --enable-gmp --enable-lzma --enable-libsnappy --enable-zlib --enable-librist --enable-libsrt --enable-libssh --enable-libzmq --enable-avisynth --enable-libbluray --enable-libcaca --enable-sdl2 --enable-libdav1d --enable-libzvbi --enable-librav1e --enable-libsvtav1 --enable-libwebp --enable-libx264 --enable-libx265 --enable-libxvid --enable-libaom --enable-libopenjpeg --enable-libvpx --enable-libass --enable-frei0r --enable-libfreetype --enable-libfribidi --enable-libvidstab --enable-libvmaf --enable-libzimg --enable-amf --enable-cuda-llvm --enable-cuvid --enable-ffnvcodec --enable-nvdec --enable-nvenc --enable-d3d11va --enable-dxva2 --enable-libmfx --enable-libglslang --enable-vulkan --enable-opencl --enable-libcdio --enable-libgme --enable-libmodplug --enable-libopenmpt --enable-libopencore-amrwb --enable-libmp3lame --enable-libshine --enable-libtheora --enable-libtwolame --enable-libvo-amrwbenc --enable-libilbc --enable-libgsm --enable-libopencore-amrnb --enable-libopus --enable-libspeex --enable-libvorbis --enable-ladspa --enable-libbs2b --enable-libflite --enable-libmysofa --enable-librubberband --enable-libsoxr --enable-chromaprint\r\n  libavutil      56. 70.100 / 56. 70.100\r\n  libavcodec     58.134.100 / 58.134.100\r\n  libavformat    58. 76.100 / 58. 76.100\r\n  libavdevice    58. 13.100 / 58. 13.100\r\n  libavfilter     7.110.100 /  7.110.100\r\n  libswscale      5.  9.100 /  5.  9.100\r\n  libswresample   3.  9.100 /  3.  9.100\r\n  libpostproc    55.  9.100 / 55.  9.100\r\n[mp3 @ 00000276c2cc0f00] Format mp3 detected only with low score of 1, misdetection possible!\r\n[mp3 @ 00000276c2cc0f00] Failed to read frame size: Could not seek to 1026.\r\nD:/Projects/fma/data/fma_medium\\001\\001486.mp3: Invalid argument\r\n",
     "output_type": "error",
     "traceback": [
      "\u001b[1;31m---------------------------------------------------------------------------\u001b[0m",
      "\u001b[1;31mError\u001b[0m                                     Traceback (most recent call last)",
      "\u001b[1;32m~\\anaconda3\\envs\\py39\\lib\\site-packages\\spleeter\\audio\\ffmpeg.py\u001b[0m in \u001b[0;36mload\u001b[1;34m(_, path, offset, duration, sample_rate, dtype)\u001b[0m\n\u001b[0;32m    100\u001b[0m         \u001b[1;32mtry\u001b[0m\u001b[1;33m:\u001b[0m\u001b[1;33m\u001b[0m\u001b[1;33m\u001b[0m\u001b[0m\n\u001b[1;32m--> 101\u001b[1;33m             \u001b[0mprobe\u001b[0m \u001b[1;33m=\u001b[0m \u001b[0mffmpeg\u001b[0m\u001b[1;33m.\u001b[0m\u001b[0mprobe\u001b[0m\u001b[1;33m(\u001b[0m\u001b[0mpath\u001b[0m\u001b[1;33m)\u001b[0m\u001b[1;33m\u001b[0m\u001b[1;33m\u001b[0m\u001b[0m\n\u001b[0m\u001b[0;32m    102\u001b[0m         \u001b[1;32mexcept\u001b[0m \u001b[0mffmpeg\u001b[0m\u001b[1;33m.\u001b[0m\u001b[0m_run\u001b[0m\u001b[1;33m.\u001b[0m\u001b[0mError\u001b[0m \u001b[1;32mas\u001b[0m \u001b[0me\u001b[0m\u001b[1;33m:\u001b[0m\u001b[1;33m\u001b[0m\u001b[1;33m\u001b[0m\u001b[0m\n",
      "\u001b[1;32m~\\anaconda3\\envs\\py39\\lib\\site-packages\\ffmpeg\\_probe.py\u001b[0m in \u001b[0;36mprobe\u001b[1;34m(filename, cmd, **kwargs)\u001b[0m\n\u001b[0;32m     22\u001b[0m     \u001b[1;32mif\u001b[0m \u001b[0mp\u001b[0m\u001b[1;33m.\u001b[0m\u001b[0mreturncode\u001b[0m \u001b[1;33m!=\u001b[0m \u001b[1;36m0\u001b[0m\u001b[1;33m:\u001b[0m\u001b[1;33m\u001b[0m\u001b[1;33m\u001b[0m\u001b[0m\n\u001b[1;32m---> 23\u001b[1;33m         \u001b[1;32mraise\u001b[0m \u001b[0mError\u001b[0m\u001b[1;33m(\u001b[0m\u001b[1;34m'ffprobe'\u001b[0m\u001b[1;33m,\u001b[0m \u001b[0mout\u001b[0m\u001b[1;33m,\u001b[0m \u001b[0merr\u001b[0m\u001b[1;33m)\u001b[0m\u001b[1;33m\u001b[0m\u001b[1;33m\u001b[0m\u001b[0m\n\u001b[0m\u001b[0;32m     24\u001b[0m     \u001b[1;32mreturn\u001b[0m \u001b[0mjson\u001b[0m\u001b[1;33m.\u001b[0m\u001b[0mloads\u001b[0m\u001b[1;33m(\u001b[0m\u001b[0mout\u001b[0m\u001b[1;33m.\u001b[0m\u001b[0mdecode\u001b[0m\u001b[1;33m(\u001b[0m\u001b[1;34m'utf-8'\u001b[0m\u001b[1;33m)\u001b[0m\u001b[1;33m)\u001b[0m\u001b[1;33m\u001b[0m\u001b[1;33m\u001b[0m\u001b[0m\n",
      "\u001b[1;31mError\u001b[0m: ffprobe error (see stderr output for detail)",
      "\nDuring handling of the above exception, another exception occurred:\n",
      "\u001b[1;31mSpleeterError\u001b[0m                             Traceback (most recent call last)",
      "\u001b[1;32m~\\AppData\\Local\\Temp\\ipykernel_25584\\1511196275.py\u001b[0m in \u001b[0;36m<module>\u001b[1;34m\u001b[0m\n\u001b[0;32m      2\u001b[0m     \u001b[0mpath\u001b[0m \u001b[1;33m=\u001b[0m \u001b[0mr\u001b[0m\u001b[1;33m[\u001b[0m\u001b[1;33m-\u001b[0m\u001b[1;36m1\u001b[0m\u001b[1;33m]\u001b[0m\u001b[1;33m\u001b[0m\u001b[1;33m\u001b[0m\u001b[0m\n\u001b[0;32m      3\u001b[0m     \u001b[1;31m## Separating vocals from instrumental\u001b[0m\u001b[1;33m\u001b[0m\u001b[1;33m\u001b[0m\u001b[1;33m\u001b[0m\u001b[0m\n\u001b[1;32m----> 4\u001b[1;33m     separator.separate_to_file(path, 'D:/Projects/Orpheus_ai/DataSet/Sep_Dataset/',\n\u001b[0m\u001b[0;32m      5\u001b[0m                           \u001b[0mfilename_format\u001b[0m\u001b[1;33m=\u001b[0m\u001b[1;34m'{instrument}/{filename}.{codec}'\u001b[0m\u001b[1;33m,\u001b[0m\u001b[1;33m\u001b[0m\u001b[1;33m\u001b[0m\u001b[0m\n\u001b[0;32m      6\u001b[0m                           \u001b[0mbitrate\u001b[0m\u001b[1;33m=\u001b[0m\u001b[1;34m'128k'\u001b[0m\u001b[1;33m,\u001b[0m\u001b[1;33m\u001b[0m\u001b[1;33m\u001b[0m\u001b[0m\n",
      "\u001b[1;32m~\\anaconda3\\envs\\py39\\lib\\site-packages\\spleeter\\separator.py\u001b[0m in \u001b[0;36mseparate_to_file\u001b[1;34m(self, audio_descriptor, destination, audio_adapter, offset, duration, codec, bitrate, filename_format, synchronous)\u001b[0m\n\u001b[0;32m    370\u001b[0m         \u001b[1;32mif\u001b[0m \u001b[0maudio_adapter\u001b[0m \u001b[1;32mis\u001b[0m \u001b[1;32mNone\u001b[0m\u001b[1;33m:\u001b[0m\u001b[1;33m\u001b[0m\u001b[1;33m\u001b[0m\u001b[0m\n\u001b[0;32m    371\u001b[0m             \u001b[0maudio_adapter\u001b[0m \u001b[1;33m=\u001b[0m \u001b[0mAudioAdapter\u001b[0m\u001b[1;33m.\u001b[0m\u001b[0mdefault\u001b[0m\u001b[1;33m(\u001b[0m\u001b[1;33m)\u001b[0m\u001b[1;33m\u001b[0m\u001b[1;33m\u001b[0m\u001b[0m\n\u001b[1;32m--> 372\u001b[1;33m         waveform, _ = audio_adapter.load(\n\u001b[0m\u001b[0;32m    373\u001b[0m             \u001b[0maudio_descriptor\u001b[0m\u001b[1;33m,\u001b[0m\u001b[1;33m\u001b[0m\u001b[1;33m\u001b[0m\u001b[0m\n\u001b[0;32m    374\u001b[0m             \u001b[0moffset\u001b[0m\u001b[1;33m=\u001b[0m\u001b[0moffset\u001b[0m\u001b[1;33m,\u001b[0m\u001b[1;33m\u001b[0m\u001b[1;33m\u001b[0m\u001b[0m\n",
      "\u001b[1;32m~\\anaconda3\\envs\\py39\\lib\\site-packages\\spleeter\\audio\\ffmpeg.py\u001b[0m in \u001b[0;36mload\u001b[1;34m(_, path, offset, duration, sample_rate, dtype)\u001b[0m\n\u001b[0;32m    101\u001b[0m             \u001b[0mprobe\u001b[0m \u001b[1;33m=\u001b[0m \u001b[0mffmpeg\u001b[0m\u001b[1;33m.\u001b[0m\u001b[0mprobe\u001b[0m\u001b[1;33m(\u001b[0m\u001b[0mpath\u001b[0m\u001b[1;33m)\u001b[0m\u001b[1;33m\u001b[0m\u001b[1;33m\u001b[0m\u001b[0m\n\u001b[0;32m    102\u001b[0m         \u001b[1;32mexcept\u001b[0m \u001b[0mffmpeg\u001b[0m\u001b[1;33m.\u001b[0m\u001b[0m_run\u001b[0m\u001b[1;33m.\u001b[0m\u001b[0mError\u001b[0m \u001b[1;32mas\u001b[0m \u001b[0me\u001b[0m\u001b[1;33m:\u001b[0m\u001b[1;33m\u001b[0m\u001b[1;33m\u001b[0m\u001b[0m\n\u001b[1;32m--> 103\u001b[1;33m             raise SpleeterError(\n\u001b[0m\u001b[0;32m    104\u001b[0m                 \"An error occurs with ffprobe (see ffprobe output below)\\n\\n{}\".format(\n\u001b[0;32m    105\u001b[0m                     \u001b[0me\u001b[0m\u001b[1;33m.\u001b[0m\u001b[0mstderr\u001b[0m\u001b[1;33m.\u001b[0m\u001b[0mdecode\u001b[0m\u001b[1;33m(\u001b[0m\u001b[1;33m)\u001b[0m\u001b[1;33m\u001b[0m\u001b[1;33m\u001b[0m\u001b[0m\n",
      "\u001b[1;31mSpleeterError\u001b[0m: An error occurs with ffprobe (see ffprobe output below)\n\nffprobe version 4.4.1-full_build-www.gyan.dev Copyright (c) 2007-2021 the FFmpeg developers\r\n  built with gcc 11.2.0 (Rev1, Built by MSYS2 project)\r\n  configuration: --enable-gpl --enable-version3 --enable-static --disable-w32threads --disable-autodetect --enable-fontconfig --enable-iconv --enable-gnutls --enable-libxml2 --enable-gmp --enable-lzma --enable-libsnappy --enable-zlib --enable-librist --enable-libsrt --enable-libssh --enable-libzmq --enable-avisynth --enable-libbluray --enable-libcaca --enable-sdl2 --enable-libdav1d --enable-libzvbi --enable-librav1e --enable-libsvtav1 --enable-libwebp --enable-libx264 --enable-libx265 --enable-libxvid --enable-libaom --enable-libopenjpeg --enable-libvpx --enable-libass --enable-frei0r --enable-libfreetype --enable-libfribidi --enable-libvidstab --enable-libvmaf --enable-libzimg --enable-amf --enable-cuda-llvm --enable-cuvid --enable-ffnvcodec --enable-nvdec --enable-nvenc --enable-d3d11va --enable-dxva2 --enable-libmfx --enable-libglslang --enable-vulkan --enable-opencl --enable-libcdio --enable-libgme --enable-libmodplug --enable-libopenmpt --enable-libopencore-amrwb --enable-libmp3lame --enable-libshine --enable-libtheora --enable-libtwolame --enable-libvo-amrwbenc --enable-libilbc --enable-libgsm --enable-libopencore-amrnb --enable-libopus --enable-libspeex --enable-libvorbis --enable-ladspa --enable-libbs2b --enable-libflite --enable-libmysofa --enable-librubberband --enable-libsoxr --enable-chromaprint\r\n  libavutil      56. 70.100 / 56. 70.100\r\n  libavcodec     58.134.100 / 58.134.100\r\n  libavformat    58. 76.100 / 58. 76.100\r\n  libavdevice    58. 13.100 / 58. 13.100\r\n  libavfilter     7.110.100 /  7.110.100\r\n  libswscale      5.  9.100 /  5.  9.100\r\n  libswresample   3.  9.100 /  3.  9.100\r\n  libpostproc    55.  9.100 / 55.  9.100\r\n[mp3 @ 00000276c2cc0f00] Format mp3 detected only with low score of 1, misdetection possible!\r\n[mp3 @ 00000276c2cc0f00] Failed to read frame size: Could not seek to 1026.\r\nD:/Projects/fma/data/fma_medium\\001\\001486.mp3: Invalid argument\r\n"
     ]
    }
   ],
   "source": [
    "for r in tqdm(full_dataframe.values):\n",
    "    path = r[-1]\n",
    "    ## Separating vocals from instrumental\n",
    "    separator.separate_to_file(path, 'D:/Projects/Orpheus_ai/DataSet/Sep_Dataset/',\n",
    "                          filename_format='{instrument}/{filename}.{codec}',\n",
    "                          bitrate='128k',\n",
    "                          duration=30,\n",
    "                          codec=spleeter.audio.Codec.MP3)"
   ]
  },
  {
   "cell_type": "code",
   "execution_count": null,
   "id": "aca8ee01",
   "metadata": {},
   "outputs": [],
   "source": [
    "sample_rate = 256000\n",
    "\n",
    "prediction = separator.separate(waveform)"
   ]
  }
 ],
 "metadata": {
  "kernelspec": {
   "display_name": "Python 3 (ipykernel)",
   "language": "python",
   "name": "python3"
  },
  "language_info": {
   "codemirror_mode": {
    "name": "ipython",
    "version": 3
   },
   "file_extension": ".py",
   "mimetype": "text/x-python",
   "name": "python",
   "nbconvert_exporter": "python",
   "pygments_lexer": "ipython3",
   "version": "3.9.0"
  }
 },
 "nbformat": 4,
 "nbformat_minor": 5
}
