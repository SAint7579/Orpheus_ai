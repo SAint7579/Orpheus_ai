{
 "cells": [
  {
   "cell_type": "code",
   "execution_count": 82,
   "id": "b8c05e4f",
   "metadata": {},
   "outputs": [],
   "source": [
    "import pandas as pd\n",
    "from glob import glob\n",
    "import numpy as np"
   ]
  },
  {
   "cell_type": "code",
   "execution_count": 44,
   "id": "c12ba10f",
   "metadata": {},
   "outputs": [
    {
     "name": "stderr",
     "output_type": "stream",
     "text": [
      "C:\\Users\\GP65\\AppData\\Local\\Temp\\ipykernel_25584\\1483770685.py:2: DtypeWarning: Columns (0,1,5,6,8,12,18,20,21,22,24,33,34,38,39,44,47,49) have mixed types. Specify dtype option on import or set low_memory=False.\n",
      "  main_data = pd.read_csv('D:/Projects/fma/data/fma_metadata/tracks.csv',header=None)\n"
     ]
    }
   ],
   "source": [
    "## Getting the key information\n",
    "main_data = pd.read_csv('D:/Projects/fma/data/fma_metadata/tracks.csv',header=None)\n",
    "columns = main_data.iloc[:3,:].fillna(value='').apply(lambda a : a +' ').sum().apply(lambda a : a.strip()).values\n",
    "main_data = main_data.iloc[3:]\n",
    "main_data.columns = columns\n",
    "main_data.index = main_data['track_id'].astype(int)\n",
    "main_data = main_data[['track title', 'track genres', 'artist name', 'artist id','track bit_rate','track duration']]\n",
    "\n",
    "## Adding Path of songs\n",
    "songs = glob('D:/Projects/fma/data/fma_medium/*/*.mp3')\n",
    "songs = {int(i.split('\\\\')[-1].split('.')[0]):i for i in songs}\n",
    "songs = pd.DataFrame(songs,index=[0]).T\n",
    "songs.columns = ['file_path']"
   ]
  },
  {
   "cell_type": "code",
   "execution_count": 120,
   "id": "3d69e530",
   "metadata": {},
   "outputs": [],
   "source": [
    "full_dataframe = pd.merge(main_data,songs,left_index=True,right_index=True,how='inner',sort=True)\n",
    "full_dataframe.index.name = 'track_id'\n",
    "full_dataframe['instrumental_path'] = [None] * len(full_dataframe)\n",
    "full_dataframe['vocal_path'] = [None] * len(full_dataframe)\n",
    "full_dataframe.to_csv('D:/Projects/Orpheus_ai/DataSet/main_dataframe.csv')"
   ]
  },
  {
   "cell_type": "markdown",
   "id": "16c55797",
   "metadata": {},
   "source": [
    "## Spleeter Test"
   ]
  },
  {
   "cell_type": "code",
   "execution_count": 31,
   "id": "f8781d8c",
   "metadata": {},
   "outputs": [],
   "source": [
    "import spleeter\n",
    "from spleeter.separator import Separator\n",
    "from spleeter.audio.adapter import AudioAdapter"
   ]
  },
  {
   "cell_type": "code",
   "execution_count": null,
   "id": "b6742ffc",
   "metadata": {},
   "outputs": [],
   "source": [
    "separator = Separator('spleeter:2stems')"
   ]
  },
  {
   "cell_type": "code",
   "execution_count": 40,
   "id": "752250f5",
   "metadata": {},
   "outputs": [],
   "source": [
    "audio_loader = AudioAdapter.default()\n",
    "sample_rate = 256000\n",
    "waveform, _ = audio_loader.load('D:/Projects/fma/data/fma_medium\\\\000\\\\000002.mp3', sample_rate=sample_rate)\n",
    "prediction = separator.separate(waveform)"
   ]
  },
  {
   "cell_type": "code",
   "execution_count": 66,
   "id": "6e361be0",
   "metadata": {},
   "outputs": [],
   "source": [
    "separator.separate_to_file('D:/Projects/fma/data/fma_medium\\\\000\\\\000002.mp3', 'D:/Projects/Orpheus_ai/DataSet/Samples/',\n",
    "                          filename_format='{instrument}/{filename}.{codec}',\n",
    "                          bitrate='128k',\n",
    "                          duration=30,\n",
    "                          codec=spleeter.audio.Codec.MP3)"
   ]
  },
  {
   "cell_type": "markdown",
   "id": "9d9ab0d6",
   "metadata": {},
   "source": [
    "## Vocal Spearation Pipeline"
   ]
  },
  {
   "cell_type": "code",
   "execution_count": 69,
   "id": "d196ecee",
   "metadata": {},
   "outputs": [],
   "source": [
    "import spleeter\n",
    "from spleeter.separator import Separator\n",
    "from spleeter.audio.adapter import AudioAdapter\n",
    "from tqdm.notebook import tqdm\n",
    "## Separator and Loader\n",
    "separator = Separator('spleeter:2stems')\n",
    "audio_loader = AudioAdapter.default()"
   ]
  },
  {
   "cell_type": "code",
   "execution_count": 127,
   "id": "2aaa078b",
   "metadata": {},
   "outputs": [],
   "source": [
    "full_dataframe = pd.read_csv('D:/Projects/Orpheus_ai/DataSet/main_dataframe.csv',index_col=['track_id'])"
   ]
  },
  {
   "cell_type": "code",
   "execution_count": null,
   "id": "02aea98c",
   "metadata": {
    "scrolled": false
   },
   "outputs": [
    {
     "data": {
      "application/vnd.jupyter.widget-view+json": {
       "model_id": "8154528868d145dca80e43cf38cef14a",
       "version_major": 2,
       "version_minor": 0
      },
      "text/plain": [
       "  0%|          | 0/24990 [00:00<?, ?it/s]"
      ]
     },
     "metadata": {},
     "output_type": "display_data"
    }
   ],
   "source": [
    "for r in tqdm(full_dataframe[full_dataframe['instrumental_path'].isna()].reset_index().values):\n",
    "    try:\n",
    "        index = r[0]\n",
    "        path = r[-3]\n",
    "        name = path.split('\\\\')[-1]\n",
    "        \n",
    "        ## Separating vocals from instrumental\n",
    "        separator.separate_to_file(path, 'D:/Projects/Orpheus_ai/DataSet/Sep_Dataset/',\n",
    "                              filename_format='{instrument}/{filename}.{codec}',\n",
    "                              bitrate='128k',\n",
    "                              duration=30,\n",
    "                              codec=spleeter.audio.Codec.MP3)\n",
    "        \n",
    "        ## Saving Paths\n",
    "        full_dataframe.loc[index,'instrumental_path'] = f\"D:/Projects/Orpheus_ai/DataSet/Sep_Dataset/accompaniment/{name}\"\n",
    "        full_dataframe.loc[index,'vocal_path'] = f\"D:/Projects/Orpheus_ai/DataSet/Sep_Dataset/vocals/{name}\"\n",
    "        full_dataframe.to_csv('D:/Projects/Orpheus_ai/DataSet/main_dataframe.csv')\n",
    "        \n",
    "    except Exception as e:\n",
    "        print(f\"Exception in {path} -- {e}\")\n",
    "        "
   ]
  }
 ],
 "metadata": {
  "kernelspec": {
   "display_name": "Python 3 (ipykernel)",
   "language": "python",
   "name": "python3"
  },
  "language_info": {
   "codemirror_mode": {
    "name": "ipython",
    "version": 3
   },
   "file_extension": ".py",
   "mimetype": "text/x-python",
   "name": "python",
   "nbconvert_exporter": "python",
   "pygments_lexer": "ipython3",
   "version": "3.9.0"
  }
 },
 "nbformat": 4,
 "nbformat_minor": 5
}
