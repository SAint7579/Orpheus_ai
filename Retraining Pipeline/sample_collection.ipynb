{
 "cells": [
  {
   "cell_type": "code",
   "execution_count": 7,
   "metadata": {},
   "outputs": [],
   "source": [
    "import sys\n",
    "sys.path.append('../')"
   ]
  },
  {
   "cell_type": "code",
   "execution_count": 11,
   "metadata": {},
   "outputs": [
    {
     "name": "stderr",
     "output_type": "stream",
     "text": [
      "vqvae\\diffusion_pytorch_model.safetensors not found\n",
      "unet\\diffusion_pytorch_model.safetensors not found\n"
     ]
    },
    {
     "data": {
      "text/plain": [
       "<module 'generation_utilities' from '..\\\\generation_utilities.py'>"
      ]
     },
     "execution_count": 11,
     "metadata": {},
     "output_type": "execute_result"
    }
   ],
   "source": [
    "import generation_utilities\n",
    "import numpy as np\n",
    "import librosa\n",
    "from glob import glob\n",
    "import random\n",
    "import IPython.display as ipd\n",
    "import soundfile as sf\n",
    "import importlib\n",
    "import ipywidgets as widgets\n",
    "import numpy as np\n",
    "importlib.reload(generation_utilities)\n"
   ]
  },
  {
   "cell_type": "code",
   "execution_count": 4,
   "metadata": {},
   "outputs": [
    {
     "data": {
      "text/plain": [
       "{'22': '../DataSet/ts_db_separated/accompaniment\\\\22.mp3',\n",
       " 'anti hero': '../DataSet/ts_db_separated/accompaniment\\\\anti hero.mp3',\n",
       " 'back to december': '../DataSet/ts_db_separated/accompaniment\\\\back to december.mp3',\n",
       " 'blank space': '../DataSet/ts_db_separated/accompaniment\\\\blank space.mp3',\n",
       " 'cardigan': '../DataSet/ts_db_separated/accompaniment\\\\cardigan.mp3',\n",
       " 'delicate': '../DataSet/ts_db_separated/accompaniment\\\\delicate.mp3',\n",
       " 'lover story': '../DataSet/ts_db_separated/accompaniment\\\\lover story.mp3',\n",
       " 'lover': '../DataSet/ts_db_separated/accompaniment\\\\lover.mp3',\n",
       " 'willow': '../DataSet/ts_db_separated/accompaniment\\\\willow.mp3',\n",
       " 'you belong with me': '../DataSet/ts_db_separated/accompaniment\\\\you belong with me.mp3'}"
      ]
     },
     "execution_count": 4,
     "metadata": {},
     "output_type": "execute_result"
    }
   ],
   "source": [
    "music = glob(\"../DataSet/ts_db_separated/accompaniment/*.mp3\")\n",
    "\n",
    "## Create music dictionary with keys as song names and values as path\n",
    "music_dict = {}\n",
    "for song in music:\n",
    "    song_name = song.split(\"\\\\\")[-1].split(\".\")[0]\n",
    "    music_dict[song_name] = song\n",
    "\n",
    "music_dict"
   ]
  },
  {
   "cell_type": "code",
   "execution_count": 16,
   "metadata": {},
   "outputs": [],
   "source": [
    "def load_songs_as_numpy_array(song_dict):\n",
    "    song_names = list(song_dict.keys())\n",
    "    song_paths = list(song_dict.values())\n",
    "\n",
    "    song_selector = widgets.SelectMultiple(\n",
    "        options=song_names,\n",
    "        description='Select songs:',\n",
    "        rows=len(song_names),\n",
    "        layout=widgets.Layout(width='400px')\n",
    "    )\n",
    "\n",
    "    ## Add a slider between 0 and 1 to select the similarity\n",
    "    similarity_slider = widgets.FloatSlider(\n",
    "        value=0.75,\n",
    "        min=0,\n",
    "        max=1.0,\n",
    "        step=0.05,\n",
    "        description='Similarity:',\n",
    "        disabled=False,\n",
    "        continuous_update=False,\n",
    "        orientation='horizontal',\n",
    "        readout=True,\n",
    "        readout_format='.2f',\n",
    "    )\n",
    "\n",
    "\n",
    "    select_button = widgets.Button(description='Select')\n",
    "    output = widgets.Output()\n",
    "\n",
    "    def on_select_button_clicked(_):\n",
    "        selected_songs = [librosa.load(song_paths[i], sr=22050)[0] for i in song_selector.index]      \n",
    "        name = '+'.join([song_names[i] for i in song_selector.index])\n",
    "\n",
    "        with output:\n",
    "            output.clear_output()\n",
    "            print(f'Selected songs: {name}')\n",
    "            ## Get similarity from the slider\n",
    "            similarity = similarity_slider.value\n",
    "            spec, song = generation_utilities.generate_songs(selected_songs, similarity=similarity, quality=500, merging_quality=100, device='cuda')\n",
    "\n",
    "            ## Play all the selected songs\n",
    "            print(\"Selected songs: \")\n",
    "            for s in selected_songs:\n",
    "                ipd.display(ipd.Audio(s, rate=22050))\n",
    "\n",
    "            # Play song\n",
    "            print(\"\\n\\nGenerated song: \")\n",
    "            ipd.display(ipd.Audio(song, rate=22050))\n",
    "\n",
    "            ## Get a rating from the user with ipywidgets\n",
    "            rating = widgets.Text(\n",
    "                value='',\n",
    "                placeholder='Type something',\n",
    "                description='Rating:',\n",
    "                disabled=False\n",
    "            )\n",
    "            display(rating)\n",
    "            ## Make a submit button\n",
    "            submit_button = widgets.Button(description='Submit')\n",
    "            display(submit_button)\n",
    "\n",
    "            def on_submit_button_clicked(_):\n",
    "                ## Convert rating to float\n",
    "                rating_value = float(rating.value)\n",
    "\n",
    "                ## Save the song\n",
    "                total_files = glob('../DataSet/Generated_music_withratings/Song/*')\n",
    "                sf.write(f'../DataSet/Generated_music_withratings/Song/{len(total_files)}_{name}_{similarity}_{rating_value}.wav', song, 22050, 'PCM_24')\n",
    "\n",
    "                ## Save the spectrogram\n",
    "                total_files = glob('../DataSet/Generated_music_withratings/Spec/*')\n",
    "                np.save(f'../DataSet/Generated_music_withratings/Spec/{len(total_files)}_{name}_{similarity}_{rating_value}.npy', spec)\n",
    "\n",
    "                with output:\n",
    "                    output.clear_output()\n",
    "                    print(\"Saved\")\n",
    "\n",
    "\n",
    "            submit_button.on_click(on_submit_button_clicked)\n",
    "        \n",
    "    select_button.on_click(on_select_button_clicked)\n",
    "\n",
    "    display(song_selector)\n",
    "    display(select_button)\n",
    "    display(similarity_slider)\n",
    "    display(output)\n",
    "\n",
    "\n",
    "    # return selected_songs, name\n"
   ]
  },
  {
   "cell_type": "code",
   "execution_count": 17,
   "metadata": {},
   "outputs": [
    {
     "data": {
      "application/vnd.jupyter.widget-view+json": {
       "model_id": "e9def0c0646441b2846f6dde7087dcd2",
       "version_major": 2,
       "version_minor": 0
      },
      "text/plain": [
       "SelectMultiple(description='Select songs:', layout=Layout(width='400px'), options=('22', 'anti hero', 'back to…"
      ]
     },
     "metadata": {},
     "output_type": "display_data"
    },
    {
     "data": {
      "application/vnd.jupyter.widget-view+json": {
       "model_id": "02526c053c2b425585a596e8a22d6e95",
       "version_major": 2,
       "version_minor": 0
      },
      "text/plain": [
       "Button(description='Select', style=ButtonStyle())"
      ]
     },
     "metadata": {},
     "output_type": "display_data"
    },
    {
     "data": {
      "application/vnd.jupyter.widget-view+json": {
       "model_id": "55be0af9c3d8443980bb6185a6997826",
       "version_major": 2,
       "version_minor": 0
      },
      "text/plain": [
       "FloatSlider(value=0.75, continuous_update=False, description='Similarity:', max=1.0, step=0.05)"
      ]
     },
     "metadata": {},
     "output_type": "display_data"
    },
    {
     "data": {
      "application/vnd.jupyter.widget-view+json": {
       "model_id": "95c50d205d484bb79b98f0c5e156b3b0",
       "version_major": 2,
       "version_minor": 0
      },
      "text/plain": [
       "Output()"
      ]
     },
     "metadata": {},
     "output_type": "display_data"
    }
   ],
   "source": [
    "load_songs_as_numpy_array(music_dict)"
   ]
  },
  {
   "cell_type": "code",
   "execution_count": 10,
   "metadata": {},
   "outputs": [
    {
     "data": {
      "text/plain": [
       "2000.0"
      ]
     },
     "execution_count": 10,
     "metadata": {},
     "output_type": "execute_result"
    }
   ],
   "source": [
    "500/0.25"
   ]
  },
  {
   "cell_type": "code",
   "execution_count": null,
   "metadata": {},
   "outputs": [],
   "source": []
  },
  {
   "cell_type": "code",
   "execution_count": null,
   "metadata": {},
   "outputs": [],
   "source": []
  }
 ],
 "metadata": {
  "kernelspec": {
   "display_name": "base",
   "language": "python",
   "name": "python3"
  },
  "language_info": {
   "codemirror_mode": {
    "name": "ipython",
    "version": 3
   },
   "file_extension": ".py",
   "mimetype": "text/x-python",
   "name": "python",
   "nbconvert_exporter": "python",
   "pygments_lexer": "ipython3",
   "version": "3.8.8"
  },
  "orig_nbformat": 4
 },
 "nbformat": 4,
 "nbformat_minor": 2
}
